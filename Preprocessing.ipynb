{
  "nbformat": 4,
  "nbformat_minor": 0,
  "metadata": {
    "colab": {
      "name": "Preprocessing.ipynb",
      "provenance": [],
      "collapsed_sections": [],
      "toc_visible": true,
      "include_colab_link": true
    },
    "kernelspec": {
      "name": "python3",
      "display_name": "Python 3"
    },
    "accelerator": "GPU"
  },
  "cells": [
    {
      "cell_type": "markdown",
      "metadata": {
        "id": "view-in-github",
        "colab_type": "text"
      },
      "source": [
        "<a href=\"https://colab.research.google.com/github/sharmila0910/attendance1/blob/main/Preprocessing.ipynb\" target=\"_parent\"><img src=\"https://colab.research.google.com/assets/colab-badge.svg\" alt=\"Open In Colab\"/></a>"
      ]
    },
    {
      "cell_type": "markdown",
      "metadata": {
        "id": "8po-oTzUTukf"
      },
      "source": [
        "# **Image preprocessing**\n",
        "**Image processing** is divided into analogue image processing and digital image processing.\n",
        "\n",
        "**Digital image processing** is the use of computer algorithms to perform image processing on digital images. It allows a much wider range of algorithms to be applied to the input data - the aim of digital image processing is to improve the image data (features) by suppressing unwanted distortions and/or enhancement of some important image features so that our **AI models** can benefit from this improved data to work on.\n"
      ]
    },
    {
      "cell_type": "markdown",
      "metadata": {
        "id": "YcL2ZCWyDF2U"
      },
      "source": [
        "# **Installing necessary dependencies**\n"
      ]
    },
    {
      "cell_type": "code",
      "metadata": {
        "id": "ieiTHw1HDwRM"
      },
      "source": [
        "# OpenCV\n",
        "!apt-get -qq install -y libsm6 libxext6 && pip install -q -U opencv-python\n",
        "\n"
      ],
      "execution_count": null,
      "outputs": []
    },
    {
      "cell_type": "markdown",
      "metadata": {
        "id": "-jQf-JqMCRgn"
      },
      "source": [
        "# **Python Code using Opencv and matplotlib libraries **"
      ]
    },
    {
      "cell_type": "code",
      "metadata": {
        "id": "ZEZu6Q22Bi0e",
        "colab": {
          "base_uri": "https://localhost:8080/",
          "height": 54
        },
        "outputId": "ed273d57-ef48-4ac7-9e6f-3e6bb9f16047"
      },
      "source": [
        "import os\n",
        "import numpy as np\n",
        "import matplotlib.pyplot as plt\n",
        "import cv2\n",
        "from google.colab import drive\n",
        "\n",
        "# Accessing My Google Drive\n",
        "drive.mount('/content/drive')\n"
      ],
      "execution_count": null,
      "outputs": [
        {
          "output_type": "stream",
          "text": [
            "Drive already mounted at /content/drive; to attempt to forcibly remount, call drive.mount(\"/content/drive\", force_remount=True).\n"
          ],
          "name": "stdout"
        }
      ]
    },
    {
      "cell_type": "code",
      "metadata": {
        "id": "DLPUqjHfKIIR"
      },
      "source": [
        "# defining global variable path\n",
        "# Location of my dataset on My Google Drive\n",
        "image_path = \"drive/My Drive/BiSeNet/dataset\"\n",
        "import tensorflow as tf\n",
        "\n",
        "def loadImages(path):\n",
        "    '''Put files into lists and return them as one list with all images \n",
        "     in the folder'''\n",
        "    image_files = sorted([os.path.join(path, 'train', file)\n",
        "                          for file in os.listdir(path + \"/train\")\n",
        "                          if file.endswith('.png')])\n",
        "    return image_files\n",
        "\n"
      ],
      "execution_count": null,
      "outputs": []
    },
    {
      "cell_type": "markdown",
      "metadata": {
        "id": "_jRARxh6RmXp"
      },
      "source": [
        "# **Displaying Images**"
      ]
    },
    {
      "cell_type": "code",
      "metadata": {
        "id": "MogmXqbeRhsg"
      },
      "source": [
        "# Display two images\n",
        "def display(a, b, title1 = \"Original\", title2 = \"Edited\"):\n",
        "    plt.subplot(121), plt.imshow(a), plt.title(title1)\n",
        "    plt.xticks([]), plt.yticks([])\n",
        "    plt.subplot(122), plt.imshow(b), plt.title(title2)\n",
        "    plt.xticks([]), plt.yticks([])\n",
        "    plt.show()\n",
        "\n",
        "# Display one image\n",
        "def display_one(a, title1 = \"Original\"):\n",
        "    plt.imshow(a), plt.title(title1)\n",
        "    plt.show()\n",
        "\n"
      ],
      "execution_count": null,
      "outputs": []
    },
    {
      "cell_type": "markdown",
      "metadata": {
        "id": "pD3e08HvWsF3"
      },
      "source": [
        "# Preprocessing the images:\n",
        "* Read image\n",
        "* Resize image \n",
        "* Remove noise(Denoise)\n",
        "* Segmentation\n",
        "* Morphology(smoothing edges)"
      ]
    },
    {
      "cell_type": "code",
      "metadata": {
        "id": "fEFZjImBRsX5"
      },
      "source": [
        "# Preprocessing\n",
        "def processing(data):\n",
        "    \n",
        "    # Reading 3 images to work\n",
        "    img = [cv2.imread(i, cv2.IMREAD_UNCHANGED) for i in data[:3]]\n",
        "    try:\n",
        "        print('Original size',img[0].shape)\n",
        "    except AttributeError:\n",
        "        print(\"shape not found\")\n",
        "   \n",
        "    # --------------------------------\n",
        "    # setting dim of the resize\n",
        "    height = 220\n",
        "    width = 220\n",
        "    dim = (width, height)\n",
        "    res_img = []\n",
        "    for i in range(len(img)):\n",
        "        res = cv2.resize(img[i], dim, interpolation=cv2.INTER_LINEAR)\n",
        "        res_img.append(res)\n",
        "\n",
        "    # Checcking the size\n",
        "    try:\n",
        "        print('RESIZED', res_img[1].shape)\n",
        "    except AttributeError:\n",
        "        print(\"shape not found\")\n",
        "    \n",
        "    \n",
        "    # Visualizing one of the images in the array\n",
        "    original = res_img[1]\n",
        "    display_one(original)\n",
        "    # ----------------------------------\n",
        "    # Remove noise\n",
        "    # Using Gaussian Blur\n",
        "    no_noise = []\n",
        "    for i in range(len(res_img)):\n",
        "        blur = cv2.GaussianBlur(res_img[i], (5, 5), 0)\n",
        "        no_noise.append(blur)\n",
        "\n",
        "\n",
        "    image = no_noise[1]\n",
        "    display(original, image, 'Original', 'Blured')\n",
        "    #---------------------------------\n",
        "    # Segmentation\n",
        "    gray = cv2.cvtColor(image, cv2.COLOR_RGB2GRAY)\n",
        "    ret, thresh = cv2.threshold(gray, 0, 255, cv2.THRESH_BINARY_INV + cv2.THRESH_OTSU)\n",
        "\n",
        "    # Displaying segmented images\n",
        "    display(original, thresh, 'Original', 'Segmented')\n",
        "    # Further noise removal (Morphology)\n",
        "    kernel = np.ones((3, 3), np.uint8)\n",
        "    opening = cv2.morphologyEx(thresh, cv2.MORPH_OPEN, kernel, iterations=2)\n",
        "\n",
        "    # sure background area\n",
        "    sure_bg = cv2.dilate(opening, kernel, iterations=3)\n",
        "\n",
        "    # Finding sure foreground area\n",
        "    dist_transform = cv2.distanceTransform(opening, cv2.DIST_L2, 5)\n",
        "    ret, sure_fg = cv2.threshold(dist_transform, 0.7 * dist_transform.max(), 255, 0)\n",
        "\n",
        "    # Finding unknown region\n",
        "    sure_fg = np.uint8(sure_fg)\n",
        "    unknown = cv2.subtract(sure_bg, sure_fg)\n",
        "\n",
        "    #Displaying segmented back ground\n",
        "    display(original, sure_bg, 'Original', 'Segmented Background')\n",
        "\n",
        "    # Marker labelling\n",
        "    ret, markers = cv2.connectedComponents(sure_fg)\n",
        "\n",
        "    # Add one to all labels so that sure background is not 0, but 1\n",
        "    markers = markers + 1\n",
        "\n",
        "    # Now, mark the region of unknown with zero\n",
        "    markers[unknown == 255] = 0\n",
        "\n",
        "    markers = cv2.watershed(image, markers)\n",
        "    image[markers == -1] = [255, 0, 0]\n",
        "\n",
        "    # Displaying markers on the image\n",
        "    display(original, markers, 'Original', 'Marked')"
      ],
      "execution_count": null,
      "outputs": []
    },
    {
      "cell_type": "markdown",
      "metadata": {
        "id": "98rA-U8pXS0g"
      },
      "source": [
        "# Main Function the heart of the program"
      ]
    },
    {
      "cell_type": "code",
      "metadata": {
        "id": "3E94MjxkR_hI",
        "colab": {
          "base_uri": "https://localhost:8080/",
          "height": 139
        },
        "outputId": "9c2801e9-d162-4bcb-a3a5-81595ec5d0fb"
      },
      "source": [
        "def main():\n",
        "    # calling global variable\n",
        "    global image_path\n",
        "    '''The var Dataset is a list with all images in the folder '''\n",
        "    dataset = loadImages(image_path)\n",
        "    print('number of FILES in dir', len(dataset))\n",
        "    print(\"--------------------------------\")\n",
        "    #print(cv2.imread(dataset[0]).shape)\n",
        "    print(\"List of files the first 3 in the folder:\\n\",dataset[:3])\n",
        "    print(\"--------------------------------\")\n",
        "    \n",
        "    # sending all the images to pre-processing\n",
        "    processing(dataset)\n",
        "   \n",
        "    #list files in directory\n",
        "    #a = tf.gfile.ListDirectory('drive/My Drive/BiSeNet/dataset/train')\n",
        "    #print(a)\n",
        "  \n",
        "main()"
      ],
      "execution_count": null,
      "outputs": [
        {
          "output_type": "stream",
          "text": [
            "number of FILES in dir 394\n",
            "--------------------------------\n",
            "List of files the first 3 in the folder:\n",
            " ['drive/My Drive/BiSeNet/dataset/train/0001TP_006690.png', 'drive/My Drive/BiSeNet/dataset/train/0001TP_006720.png', 'drive/My Drive/BiSeNet/dataset/train/0001TP_006750.png']\n",
            "--------------------------------\n",
            "['0016E5_07530 (1).png', '0016E5_06300 (1).png', '0016E5_02340 (1).png', '0006R0_f03570 (1).png', '0016E5_02370 (1).png', '0016E5_06660 (1).png', '0016E5_06750 (1).png', '0016E5_01260 (1).png', '0016E5_04380 (1).png', '0001TP_007470 (1).png', '0006R0_f02340.png', '0006R0_f03840.png', '0016E5_02400.png', '0016E5_04920.png', '0016E5_05160.png', '0001TP_007170.png', '0016E5_05910.png', '0001TP_006870.png', '0006R0_f03600.png', '0006R0_f01050.png', '0006R0_f01770.png', '0006R0_f01980.png', '0016E5_01920.png', '0001TP_007020.png', '0006R0_f01470.png', '0016E5_06840.png', '0001TP_007860.png', '0016E5_05220.png', '0016E5_01770.png', '0016E5_06870.png', '0006R0_f03480.png', '0016E5_05340.png', '0006R0_f02790.png', '0016E5_05970.png', '0016E5_05100.png', '0016E5_08610.png', '0001TP_007800.png', '0016E5_05070.png', '0016E5_08220.png', '0016E5_07860.png', '0006R0_f03930.png', '0006R0_f00930.png', '0016E5_05370.png', '0016E5_04800.png', '0006R0_f01590.png', '0001TP_008430.png', '0001TP_007440.png', '0016E5_05790.png', '0016E5_07530.png', '0016E5_02340.png', '0006R0_f03570.png', '0016E5_04380.png', '0016E5_02370.png', '0016E5_01260.png', '0016E5_06660.png', '0016E5_06750.png', '0016E5_06300.png', '0001TP_007470.png', '0016E5_07800.png', '0016E5_01500.png', '0006R0_f03750.png', '0001TP_007350.png', '0006R0_f01650.png', '0006R0_f00960.png', '0016E5_05550.png', '0001TP_007890.png', '0016E5_01320.png', '0016E5_05850.png', '0016E5_06510.png', '0016E5_06060.png', '0001TP_008280.png', '0001TP_006810.png', '0016E5_07680.png', '0016E5_05610.png', '0006R0_f01320.png', '0016E5_05040.png', '0001TP_007920.png', '0016E5_04470.png', '0001TP_008130.png', '0016E5_01680.png', '0006R0_f02730.png', '0016E5_01020.png', '0006R0_f02250.png', '0006R0_f02400.png', '0016E5_05730.png', '0006R0_f01710.png', '0001TP_008010.png', '0016E5_05430.png', '0016E5_05700.png', '0016E5_07020.png', '0016E5_02070.png', '0016E5_04620.png', '0006R0_f02490.png', '0016E5_02280.png', '0016E5_05010.png', '0001TP_008070.png', '0001TP_007530.png', '0001TP_007740.png', '0006R0_f03210.png', '0016E5_07890.png', '0006R0_f02310.png', '0006R0_f02550.png', '0016E5_04890.png', '0016E5_01710.png', '0016E5_00720.png', '0016E5_06690.png', '0016E5_06810.png', '0001TP_008040.png', '0016E5_01560.png', '0006R0_f01920.png', '0016E5_00960.png', '0006R0_f02970.png', '0016E5_06420.png', '0006R0_f01860.png', '0016E5_05880.png', '0016E5_05670.png', '0006R0_f01230.png', '0001TP_008490.png', '0016E5_01170.png', '0016E5_07710.png', '0016E5_05310.png', '0001TP_006840.png', '0016E5_04530.png', '0006R0_f01410.png', '0001TP_007650.png', '0016E5_05280.png', '0001TP_006900.png', '0016E5_07200.png', '0006R0_f03510.png', '0016E5_02160.png', '0016E5_07290.png', '0016E5_07590.png', '0006R0_f02610.png', '0016E5_04980.png', '0006R0_f03120.png', '0006R0_f03150.png', '0001TP_007050.png', '0016E5_04830.png', '0016E5_00600.png', '0006R0_f01380.png', '0016E5_00480.png', '0006R0_f02190.png', '0016E5_06240.png', '0016E5_06630.png', '0016E5_04860.png', '0006R0_f01260.png', '0006R0_f03090.png', '0016E5_06360.png', '0016E5_07080.png', '0016E5_06990.png', '0016E5_08490.png', '0016E5_01230.png', '0001TP_007620.png', '0006R0_f01680.png', '0016E5_00510.png', '0006R0_f02880.png', '0016E5_06180.png', '0016E5_00901.png', '0016E5_08520.png', '0006R0_f02460.png', '0006R0_f03360.png', '0016E5_04740.png', '0016E5_02190.png', '0001TP_008340.png', '0016E5_00840.png', '0001TP_007320.png', '0016E5_06000.png', '0016E5_00660.png', '0006R0_f02280.png', '0001TP_008190.png', '0016E5_01890.png', '0001TP_008160.png', '0001TP_007410.png', '0016E5_08190.png', '0016E5_00630.png', '0016E5_08550.png', '0016E5_08370.png', '0016E5_04590.png', '0006R0_f03810.png', '0016E5_01530.png', '0016E5_06270.png', '0006R0_f01170.png', '0006R0_f03900.png', '0006R0_f02760.png', '0001TP_006690.png', '0016E5_07110.png', '0001TP_008520.png', '0016E5_05190.png', '0006R0_f02130.png', '0006R0_f02940.png', '0001TP_008310.png', '0001TP_007680.png', '0016E5_05640.png', '0001TP_007110.png', '0016E5_05820.png', '0001TP_006990.png', '0016E5_01050.png', '0016E5_01110.png', '0006R0_f03450.png', '0016E5_07740.png', '0006R0_f01950.png', '0016E5_02010.png', '0006R0_f01800.png', '0016E5_04560.png', '0016E5_04770.png', '0016E5_07350.png', '0001TP_008370.png', '0006R0_f03030.png', '0016E5_06930.png', '0016E5_01950.png', '0001TP_007980.png', '0016E5_06600.png', '0006R0_f03060.png', '0016E5_06120.png', '0016E5_01200.png', '0006R0_f00990.png', '0001TP_007200.png', '0016E5_07470.png', '0006R0_f03330.png', '0016E5_08430.png', '0016E5_07260.png', '0006R0_f02040.png', '0016E5_07440.png', '0016E5_01350.png', '0016E5_04440.png', '0006R0_f01890.png', '0016E5_04410.png', '0016E5_00810.png', '0006R0_f01560.png', '0016E5_08400.png', '0006R0_f03540.png', '0016E5_04650.png', '0006R0_f03300.png', '0006R0_f01830.png', '0016E5_04710.png', '0016E5_01080.png', '0016E5_08640.png', '0006R0_f01350.png', '0016E5_07650.png', '0006R0_f02160.png', '0016E5_06210.png', '0006R0_f01440.png', '0016E5_01740.png', '0001TP_008220.png', '0016E5_00990.png', '0006R0_f02700.png', '0006R0_f02910.png', '0001TP_007290.png', '0006R0_f02520.png', '0016E5_02310.png', '0016E5_07050.png', '0016E5_07920.png', '0006R0_f03180.png', '0006R0_f02850.png', '0006R0_f03000.png', '0016E5_04350.png', '0001TP_006780.png', '0001TP_008250.png', '0006R0_f03720.png', '0016E5_06450.png', '0006R0_f03780.png', '0001TP_007770.png', '0006R0_f02070.png', '0016E5_00540.png', '0016E5_01380.png', '0001TP_008400.png', '0016E5_06150.png', '0001TP_007260.png', '0016E5_06480.png', '0016E5_07170.png', '0006R0_f03630.png', '0016E5_01860.png', '0016E5_05940.png', '0016E5_02220.png', '0001TP_007080.png', '0006R0_f03420.png', '0001TP_007830.png', '0016E5_05250.png', '0006R0_f02220.png', '0006R0_f01740.png', '0006R0_f02580.png', '0006R0_f02430.png', '0016E5_02250.png', '0016E5_06720.png', '0006R0_f01290.png', '0016E5_07320.png', '0016E5_01980.png', '0006R0_f02670.png', '0016E5_01620.png', '0016E5_07560.png', '0016E5_06330.png', '0016E5_06540.png', '0006R0_f02010.png', '0001TP_007560.png', '0016E5_00450.png', '0006R0_f03270.png', '0016E5_02100.png', '0006R0_f02820.png', '0016E5_00570.png', '0016E5_01290.png', '0006R0_f01020.png', '0016E5_06960.png', '0006R0_f02640.png', '0016E5_05760.png', '0001TP_007500.png', '0016E5_00780.png', '0001TP_007590.png', '0016E5_07410.png', '0001TP_008100.png', '0016E5_01440.png', '0016E5_08310.png', '0016E5_04500.png', '0016E5_05490.png', '0006R0_f01110.png', '0016E5_05130.png', '0016E5_00870.png', '0001TP_007710.png', '0016E5_00930.png', '0016E5_02040.png', '0006R0_f02370.png', '0016E5_06570.png', '0016E5_07770.png', '0016E5_08250.png', '0016E5_06390.png', '0016E5_07230.png', '0016E5_02130.png', '0006R0_f03690.png', '0016E5_05400.png', '0016E5_07620.png', '0016E5_01650.png', '0016E5_08340.png', '0016E5_01830.png', '0001TP_006960.png', '0016E5_06780.png', '0001TP_006750.png', '0006R0_f01620.png', '0006R0_f03870.png', 'read_img.py', '0016E5_00390.png', '0016E5_01800.png', '0006R0_f01080.png', '0016E5_01140.png', '0016E5_07140.png', '0006R0_f01200.png', '0006R0_f03240.png', '0006R0_f01140.png', '0001TP_006720.png', '0016E5_01410.png', '0016E5_07830 (1).png', '0016E5_06030 (1).png', '0006R0_f03660.png', '0016E5_00420 (3).png', '0016E5_01470.png', '0016E5_05460 (3).png', '0001TP_007950 (3).png', '0006R0_f01500 (2).png', '0016E5_00750 (2).png', '0016E5_05580 (2).png', '0001TP_007950 (2).png', '0016E5_00420 (2).png', '0016E5_05460 (2).png', '0016E5_06090.png', '0016E5_01590.png', '0016E5_08460.png', '0016E5_04950.png', '0001TP_007230.png', '0001TP_007140.png', '0006R0_f01530.png', '0016E5_05520.png', '0016E5_08580.png', '0001TP_008460.png', '0016E5_05580 (1).png', '0006R0_f01500 (1).png', '0016E5_00750 (1).png', '0001TP_007950 (1).png', '0016E5_05460 (1).png', '0016E5_00420 (1).png', '0016E5_06030.png', '0016E5_07830.png', '0016E5_05580.png', '0006R0_f01500.png', '0016E5_00750.png', '0001TP_007950.png', '0016E5_05460.png', '0016E5_00420.png', '0006R0_f02100.png', '0001TP_007380.png', '0016E5_07380.png', '0001TP_006930.png', '0016E5_04680.png', '0016E5_08280.png', '0016E5_07500.png', '0016E5_06900.png', '0006R0_f03390.png', '0016E5_00690.png']\n"
          ],
          "name": "stdout"
        }
      ]
    }
  ]
}